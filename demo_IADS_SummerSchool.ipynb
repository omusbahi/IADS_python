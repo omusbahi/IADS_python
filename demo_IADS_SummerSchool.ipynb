{
  "nbformat": 4,
  "nbformat_minor": 0,
  "metadata": {
    "colab": {
      "name": "demo_IADS_SummerSchool.ipynb",
      "provenance": [],
      "authorship_tag": "ABX9TyNWNJFakzYg8MQsahNQ6apL",
      "include_colab_link": true
    },
    "kernelspec": {
      "name": "python3",
      "display_name": "Python 3"
    },
    "language_info": {
      "name": "python"
    }
  },
  "cells": [
    {
      "cell_type": "markdown",
      "metadata": {
        "id": "view-in-github",
        "colab_type": "text"
      },
      "source": [
        "<a href=\"https://colab.research.google.com/github/omusbahi/IADS_python/blob/main/demo_IADS_SummerSchool.ipynb\" target=\"_parent\"><img src=\"https://colab.research.google.com/assets/colab-badge.svg\" alt=\"Open In Colab\"/></a>"
      ]
    },
    {
      "cell_type": "code",
      "metadata": {
        "id": "2GxUq2oIA3Lk"
      },
      "source": [
        ""
      ],
      "execution_count": null,
      "outputs": []
    },
    {
      "cell_type": "code",
      "metadata": {
        "id": "4UUFn9DtBdCs"
      },
      "source": [
        "this is my first code in python\n"
      ],
      "execution_count": null,
      "outputs": []
    },
    {
      "cell_type": "markdown",
      "metadata": {
        "id": "G7M6YScyBins"
      },
      "source": [
        "#first code\n",
        "\n",
        "This is my first code in python\n"
      ]
    },
    {
      "cell_type": "code",
      "metadata": {
        "id": "m1iv3CcnB8rt"
      },
      "source": [
        ""
      ],
      "execution_count": null,
      "outputs": []
    }
  ]
}